{
 "cells": [
  {
   "cell_type": "markdown",
   "metadata": {
    "deletable": false,
    "lang": "pl",
    "run_control": {
     "frozen": false
    }
   },
   "source": [
    "<img src=\".images/LOGO.jpg\" width=\"120\" height=\"100\" align='left'/>\n",
    "\n",
    "# Witaj, świecie!\n",
    "\n",
    "Cześć! Witaj w pierwszej lekcji kursu Dijkstra, dotyczącego Pythona!\n",
    "<br><br><br>\n",
    "\n",
    "Na tej lekcji nauczysz się:\n",
    "1. Jak działają notatniki Jupyter.\n",
    "2. Czym jest programowanie i do czego można użyć języków programowania.\n",
    "3. Jak wyświetla się komunikaty na ekranie.\n",
    "4. Czym różnią się od siebie języki programowania i dlaczego to jest ważne.\n"
    
  
    "Aby zacząć używać, tej lekcji kliknij SHIFT i ENTER lub przycisk play (z panelu górnego) w poniższej komórce, aby ją wyowałać.\n"
    "Jeśli po lewej stronie wyświetliło się [1] po paru sekundach to wszystko działa i możesz zacząć programować! \n"
    "Jeśli wyświetla się [*] to odśwież przeglądarkę i/lub kliknij restart kernel ↻ w panelu górnym. To powinno rozwiązać wszystkie problemy!"
   
  ]
  },
  {
   "cell_type": "code",
   "execution_count": null,
   "metadata": {
    "hide_input": true,
    "init_cell": true,
    "tags": [
     "remove-input"
    ]
   },
   "outputs": [],
   "source": [
    "from IPython.core.display import HTML\n",
    "\n",
    "def _set_css_style(css_file_path):\n",
    "   \"\"\"\n",
    "   Read the custom CSS file and load it into Jupyter.\n",
    "   Pass the file path to the CSS file.\n",
    "   \"\"\"\n",
    "\n",
    "   styles = open(css_file_path, \"r\").read()\n",
    "   s = '<style>%s</style>' % styles     \n",
    "   return HTML(s)\n",
    "_set_css_style(\".styles/custom.css\")"
   ]
  },
  {
   "cell_type": "markdown",
   "metadata": {
    "deletable": false,
    "run_control": {
     "frozen": false
    },
    "toc": true
   },
   "source": [
    "<h1>Spis Treści<span class=\"tocSkip\"></span></h1>\n",
    "<div class=\"toc\"><ul class=\"toc-item\"><li><span><a href=\"#O-tym,-jak-używać-notatników-Jupyter,-słów-kilka\" data-toc-modified-id=\"O-tym,-jak-używać-notatników-Jupyter,-słów-kilka-1\"><span class=\"toc-item-num\">1&nbsp;&nbsp;</span>O tym, jak używać notatników Jupyter, słów kilka</a></span></li><li><span><a href=\"#Program-&quot;Witaj,-świecie&quot;!\" data-toc-modified-id=\"Program-&quot;Witaj,-świecie&quot;!-2\"><span class=\"toc-item-num\">2&nbsp;&nbsp;</span>Program \"Witaj, świecie\"!</a></span></li><li><span><a href=\"#Czym-jest-programowanie?\" data-toc-modified-id=\"Czym-jest-programowanie?-3\"><span class=\"toc-item-num\">3&nbsp;&nbsp;</span>Czym jest programowanie?</a></span><ul class=\"toc-item\"><li><span><a href=\"#Kim-są-żołnierze?-O-operacjach-logicznych.\" data-toc-modified-id=\"Kim-są-żołnierze?-O-operacjach-logicznych.-3.1\"><span class=\"toc-item-num\">3.1&nbsp;&nbsp;</span>Kim są żołnierze? O operacjach logicznych.</a></span></li><li><span><a href=\"#Komu-wydajemy-rozkazy?-O-procesorze-i-pamięci\" data-toc-modified-id=\"Komu-wydajemy-rozkazy?-O-procesorze-i-pamięci-3.2\"><span class=\"toc-item-num\">3.2&nbsp;&nbsp;</span>Komu wydajemy rozkazy? O procesorze i pamięci</a></span></li><li><span><a href=\"#Interpreter-języka-Python.\" data-toc-modified-id=\"Interpreter-języka-Python.-3.3\"><span class=\"toc-item-num\">3.3&nbsp;&nbsp;</span>Interpreter języka Python.</a></span></li><li><span><a href=\"#Różne-języki-programowania\" data-toc-modified-id=\"Różne-języki-programowania-3.4\"><span class=\"toc-item-num\">3.4&nbsp;&nbsp;</span>Różne języki programowania</a></span></li><li><span><a href=\"#Języki-kompilowane-i-interpretowane.-Interpreter-a-kompilator\" data-toc-modified-id=\"Języki-kompilowane-i-interpretowane.-Interpreter-a-kompilator-3.5\"><span class=\"toc-item-num\">3.5&nbsp;&nbsp;</span>Języki kompilowane i interpretowane. Interpreter a kompilator</a></span></li></ul></li><li><span><a href=\"#Podsumowanie\" data-toc-modified-id=\"Podsumowanie-4\"><span class=\"toc-item-num\">4&nbsp;&nbsp;</span>Podsumowanie</a></span></li></ul></div>"
   ]
  },
  {
   "cell_type": "markdown",
   "metadata": {
    "pycharm": {
     "name": "#%% md\n"
    },
    "tags": []
   },
   "source": [
    "<a id='section1'></a>\n",
    "\n",
    "    \n",
    "## O tym, jak używać notatników Jupyter, słów kilka\n",
    "\n",
    "Ta książka napisana jest przy użyciu notatników Jupyter (**Jupyter Notebooks**). Notatnik Jupyter to interaktywna platforma pozwalająca na połączenie fragmentów kodu (które da się uruchomić!), wzorów matematycznych i wizualizacji (wykresów, rysunków) - i opisanie wszystkiego tego narracyjnym tekstem.\n",
    "\n",
    "\n",
    "<div class=\"admonition info\">    \n",
    "W takich notebookach na codzień pracują <i>data scientists </i> - prototypują rozwiązania w notatnikach Jupyter (i podobnych). Pozwala to na sprawdzanie rozwiązań krok po kroku (bez czekania, aż cały wielki program się załaduje), w przyjaznym formacie. \n",
    "\n",
    "</div>\n",
    "<div style=\"text-align: justify\">\n",
    "W tekście będą pojawiać się różne ramki. Ramki <span style=\"color:#9594ff\"> niebieskie </span> z ikonką 💡 będą zawierały dodatkowe, ciekawe informacje, ramki <span style=\"color:#F9E04B\"> żółte </span> z ikonką ⚠️ będą podkreślały jakąś praktykę programistyczną lub informowały Cię o szczególnie ważnych faktach. Ramki <span style=\"color:#33cc33\"> zielone </span> z ikonką 🌐 będą informowały Cię o dodatkowych źródłach, z których możesz skorzystać. W ramkach <span style=\"color:#ff5555\"> czerwonych </span> z ikonką 🛑 dyskutować będziemy częste błędy i złe nawyki. W końcu ramki <span style=\"color:#aaaaaa\">szare</span> z ikonką 🐍 Cię informować o konieczności wywołania kodu, <span style=\"color:#aaaaaa\">szare</span> z ikonką 💭 będą Cię informować o konieczności wykonania zadania.\n",
    "</div>"
   ]
  },
  {
   "cell_type": "markdown",
   "metadata": {
    "deletable": false,
    "run_control": {
     "frozen": false
    }
   },
   "source": [
    "__Zaletą__ tego systemu prezentacji tekstu i kodu jest to, że dany temat jest omawiany w jednym miejscu, w ramach jednego rozdziału. Z drugiej strony możesz \"puszczać\" program/programy po kawałeczku, aby po kolei patrzeć, co się dzieje. Dlatego właśnie notatniki Jupyter są tak wygodne do nauki i do testowania nowych idei! \n",
    "\n",
    "_Sam tak pracuję na co dzień, kiedy chcę przetestować jakąś nową ideę czy funkcję lub przeanalizować jakiś złośliwy fragment kodu_.\n",
    "\n",
    "    \n",
    "<div class=\"admonition info\">\n",
    "    Komórki tekstowe w Notebookach pisane są przy użyciu języka znaczników <b>Markdown</b> oraz <b>HTML</b>. Aby Ci to nie przeszkadzało w nauce w tych notebookach zablokowałem możliwość ich podejrzenia. CSS to bardzo wygodne narzędzie do tworzenia styli na stronach internetowych. Pozwala na przykład tworzyć takie ramki. Ten fragment używa następującego stylu CSS, który zamieściłem dla Ciebie poniżej. Całość CSSa znajdziesz w folderze `styles/`.\n",
    "    \n",
    "```css\n",
    "div.admonition.info {border-left: 4px solid #9594ff;}\n",
    "\n",
    "div.admonition.info:before { font-size: 1.2em !important;\n",
    "    content: '\\00a0  💡 To ciekawe!';\n",
    "    background: #ddeeff;}\n",
    "```   \n",
    "</div>\n",
    "\n",
    "\n",
    "\n",
    "    \n",
    "W tekście opisowym (na białym tle) będziemy pisać elementy kodu tak jak są one zapisywane w języku Python. Na przykład tak: `print(\"Hello world!\")`. Wtedy nie będą one wywoływane, a jedynie będą pokazane jako wprowadzenie do nowej składni lub jako pewna podpowiedź. Fragmenty kodu do uruchomienia \n",
    "będą się zaś pojawiać na szarym tle, co zobaczycie już w kolejnym rozdziale. \n",
    "     \n",
    "Przy użyciu oznaczenia `>>>` będziemy zapisywać wielolinijkowe polecenia Pythona, jak również to, co się stanie po wykonaniu danego polecenia. Gdybyś używał Pythona w terminalu/wierszu poleceń, tak właśnie by to wyglądało:\n",
    "\n",
    "\n",
    "```python\n",
    ">>> print(\"Hello world!\")\n",
    ">>> Hello world!\n",
    "```\n",
    "\n",
    "Jak zapewne zauważyłeś, Python koloruje składnię dla Twojej wygody. Przykładowo w ramach Jupyter Notebook na zielono oznacza funkcje wbudowane, zaś na czerwono zmienne typu napisowego (później wyjaśnimy, co to oznacza).\n",
    "\n",
    "__Przejdźmy do naszego pierwszego programu!__\n"
   ]
  },
  {
   "cell_type": "markdown",
   "metadata": {
    "pycharm": {
     "name": "#%% md\n"
    }
   },
   "source": [
    "<a id='section2'></a>\n",
    "## Program \"Witaj, świecie\"!\n",
    "\n",
    "W świecie IT jest taki zwyczaj, że pierwszym programem, jaki pisze świeżo upieczony programista, to program, który ma wypisać na ekran komunikat: \"Hello World!\" (\"Witaj, świecie!\"). To są Twoje pierwsze słowa, które komputer wyświetli na ekranie.\n",
    "\n",
    "Aby to zrobić, w języku Python piszemy po prostu ```print(\"Hello world!\")```.\n",
    "\n",
    "Ta instrukcja jest wpisana w poniższej komórce, która jest naszą pierwszą komórką kodu.\n",
    "\n",
    "Aby uruchomić kod, po prostu kliknij komórkę `print(...)` i wciśnij __Shift__ + __Enter__ albo __Ctrl__ + __Enter__. \n",
    "\n",
    "\n",
    "<div class=\"admonition code\">\n",
    "<b>Wykonywanie komórki w Jupyterze!</b>\n",
    "    \n",
    "Klikając <b> Shift</b> + <b>Enter </b> lub <b> Ctrl</b> + <b>Enter</b> i zobacz, co się stanie. (Możesz też w cudzysłowach zamiast \"Hello World\" wpisać cokolwiek innnego, na co masz ochotę).\n",
    "</div>"
   ]
  },
  {
   "cell_type": "code",
   "execution_count": null,
   "metadata": {
    "pycharm": {
     "is_executing": true,
     "name": "#%%\n"
    },
    "scrolled": true
   },
   "outputs": [],
   "source": [
    "print(\"Hello world!\")"
   ]
  },
  {
   "cell_type": "markdown",
   "metadata": {
    "deletable": false,
    "run_control": {
     "frozen": false
    }
   },
   "source": [
    "Jak zapewne już zauważyłeś, poniższy tekst został podzielony na komórki. Jeśli zobaczysz komórkę `In` lub `[]` z ewentualnym numerem, to oznacza, że zawiera ona kod. Jeśli dana komórka została już przez Ciebie uruchomiona, to przy `In` pojawi się numer, tak jak poniżej).\n",
    "\n",
    "<div class=\"admonition see\">\n",
    "    \n",
    "Być może zauważyłeś u góry kodu linijkę z napisem `Out[1]`. Nie przejmuj się nią, jest tam kod HTML, który powoduje, że te notebooki wyglądą tak przyjemnie ;)\n",
    "</div>"
   ]
  },
  {
   "cell_type": "markdown",
   "metadata": {
    "deletable": false,
    "run_control": {
     "frozen": false
    }
   },
   "source": [
    "<div class=\"admonition code\">\n",
    "<b>Spróbuj jeszcze raz!</b>\n",
    "</div>"
   ]
  },
  {
   "cell_type": "code",
   "execution_count": null,
   "metadata": {},
   "outputs": [],
   "source": [
    "print(\"Ta książka jest super!\")"
   ]
  },
  {
   "cell_type": "markdown",
   "metadata": {
    "deletable": false,
    "hide_input": true,
    "pycharm": {
     "name": "#%% md\n"
    },
    "run_control": {
     "frozen": false
    }
   },
   "source": [
    "Jak zapewne się domyśliłeś/aś, polecenie ```print(...)``` wyświetli nam na ekran to co mu napiszemy w nawiasach. Na przykład:\n",
    "```print(2)``` wyświetli nam na ekranie liczbę 2.\n",
    "\n",
    "<div class=\"admonition warn\">\n",
    "Jeśli chcemy wyświetlić na ekranie tekst, musimy ująć go w cudzysłów:\n",
    "\n",
    "```python\n",
    "print(\"Hello World\")\n",
    "```\n",
    "</div>\n",
    "\n",
    "\n",
    "Natomiast jeśli chcemy wyświetlić cyfrę lub liczbę, zasadniczo nie stosujemy cudzysłowu (są oczywiście __wyjątki__, o których powiemy później).\n",
    "\n",
    "<div class=\"admonition code\">\n",
    "<b>Spróbuj sam!</b>\n",
    "</div>"
   ]
  },
  {
   "cell_type": "code",
   "execution_count": null,
   "metadata": {},
   "outputs": [],
   "source": [
    "print(2)"
   ]
  },
  {
   "cell_type": "markdown",
   "metadata": {
    "deletable": false,
    "pycharm": {
     "name": "#%% md\n"
    },
    "run_control": {
     "frozen": false
    }
   },
   "source": [
    "**Proste, prawda?**\n",
    "\n",
    "Ale też trochę rozczarowujące, czyż nie? \n",
    "\n",
    "To tylko wstęp!\n",
    "\n",
    "Zanim napiszemy nasze kolejne, już mniej rozczarowujące programy, dowiedzmy się najpierw, czym właściwie jest programowanie."
   ]
  },
  {
   "cell_type": "markdown",
   "metadata": {
    "deletable": false,
    "pycharm": {
     "name": "#%% md\n"
    },
    "run_control": {
     "frozen": false
    }
   },
   "source": [
    "<a id='section3'></a>\n",
    "## Czym jest programowanie?\n",
    "\n",
    "Programowanie to rozmowa z komputerem i wydawanie mu rozkazów, tak, by maszyna zrobiła to, co  chcemy. Przypomina dowodzenie wojskiem na polu bitwy. Ty jesteś generałem, język programowania (a raczej jego `interpreter`, o którym później) - adiutantem przekazującym Twoje rozkazy, a komputer - żołnierzem. \n",
    "\n",
    "<div class=\"admonition warn\">\n",
    "Dla komputera rozkaz musi być jasny i prosty. Jeśli jest zrozumiały, to istnieje szansa, że bitwa zostanie wygrana. Ponadto zwiększa to prawdopodobieństwo, że adiutant dobrze nas zrozumie w zgiełku bitwy i precyzyjnie przekaże rozkaz żołnierzom. Nazywamy to regułą <b>KISS</b> od angielskiego \"Keep it simple, stupid\" (\"Zachowaj prostotę, głupku\").\n",
    "</div>\n",
    "\n",
    " \n",
    "\n",
    "Jedyna różnica między adiutantem i żołnierzami a komputerem jest taka, że komputer od razu powie, że nie rozumie - i powie nam, czego nie rozumie. Być może wydaliśmy mu rozkać ataku na twierdzę na Księżycu, a tego nie potrafi zrobić. Często powie nam też, dlaczego nie potrafi tego zrobić:\n",
    "1. Być może nie ma takiej technologii (takiego polecenia).\n",
    "2. Może ma za mało żołnierzy, żeby zbudować z nich taką drabinę (za mało pamięci/mocy obliczeniowej).\n",
    "3. A może nie rozumie, co to jest księżyc (nie zna takiej *zmiennej*/*funkcji* - pojęcia te zostaną wprowadzone później).\n",
    "4. Może mieć też inne powody.\n",
    "\n",
    "<div class=\"admonition danger\">\n",
    "Nie ma w tym nic złego, że w naszym kodzie pojawił się błąd. W programowaniu bardziej niż gdziekolwiek indziej uczymy się na błędach, tzw. `bugach` (ang. *bug* - robak). Ponadto czasem ktoś inny źle użyje naszego kodu (wyobraźcie sobie dziecko z pistoletem...). W Lekcji 4 opowiemy, jakie mechanizmy ma Python, aby nas przed tym zabezpieczyć.\n",
    "</div>"
   ]
  },
  {
   "cell_type": "markdown",
   "metadata": {
    "deletable": false,
    "run_control": {
     "frozen": false
    }
   },
   "source": [
    "<a id='section31'></a>\n",
    "### Kim są żołnierze? O operacjach logicznych.\n",
    "\n",
    "Wiemy, że jako programiści jesteśmy generałami, ale kim są nasi żołnierze i nasz adiutant?\n",
    "\n",
    "Aby to zrozumieć, wyobraźmy sobie drużynę trzech żołnierzy, stojących w trójkącie z flagami w rękach. Dwóch stojących bliżej ma podnosić flagi, gdy im każemy, na przykład wskazując na nich palcem i krzycąc: __TY i TY__ flagi do góry! \n",
    "\n",
    "<div class=\"admonition see\">\n",
    "Analogię tę zawdzięczam książce \"Problem Trzech Ciał\" autorstwa Cixina Liu, gdzie komputer zbudowany z żołnierzy armii chińskiej był używany do prognozowania pór roku na planecie okrążającej potrójny układ gwiezdny. Od poprawności jego przewidywań zależało \"być lub nie być\" cywilizacji.\n",
    "    \n",
    "<b> Nie jest to reklama, ale to jedna z najlepszych książek jaką czytałem w tym roku</b>.\n",
    "</div>\n",
    "\n",
    "Trzeci ma zadanie trudniejsze: musi podnieść flagę tylko wtedy, kiedy obaj podniosą flagi.\n",
    "\n",
    "Generalnie jeden komputerowy żołnierz umie robić tylko dwie rzeczy: podnieść flagę lub ją opuścić - nie jest zbyt rozgarnięty, prawda? \n",
    "\n",
    "- Podniesienie flagi oznacza \"__jest sygnał__\", co oznaczamy jako __jeden (1)__, \n",
    "- Trzymanie flagi opuszczonej oznacza brak sygnału, czyli __zero (0)__. \n",
    "\n",
    "Dlatego mówimy, że \"**komputer rozumie tylko zera i jedynki**\". Okazuje się, że system  logiki zerojedynkowej (tak zwanej logiki dwuwartościowej, zwanej także algebrą Boole'a) świetnie da się odzwierciedlić w układach elektronicznych. Wartość \"**jeden**\" jest reprezentowana jako pewien sygnał elektryczny, zaś \"**zero**\" jako brak takiego sygnału. \n",
    "<div class=\"admonition warn\">\n",
    "W logice często wartość <b>\"jeden\"</b> nazywamy prawdą, zaś wartość <b>\"zero\"</b> fałszem.\n",
    "</div>\n",
    "\n",
    "Okazuje się, że dowolną operację logiczną (a więc i matematyczną) można zbudować posługując się dostatecznie dużą ilością bramek logicznych. Takie bramki wykonują pewną konkretną operację logiczną. Przykładowo opisana powyżej drużyna trzech żołnierzy wykonuję bramkę __And__. Bramka taka przekazuje wartość \"**jeden**\" (mówimy o wyjściu z bramki) tylko wtedy kiedy obie flagi (mówimy o sygnałach wejściowych) są podniesione, czyli był sygnał \"**jeden**\". \n",
    "\n",
    "<img src=\".images/Bramka.png\" width=\"150\" height=\"120\" align='central'/>\n",
    "\n",
    "Działanie bramki __AND__ można przedstawić w tzw. tabeli logicznej:\n",
    "\n",
    "|Wejście A|Wejście B| Wyjście Y|\n",
    "|------|------|------|\n",
    "|1     |1     |1     |\n",
    "|1     |0     |0     |\n",
    "|0     |1     |0     |\n",
    "|0     |0     |0     |\n",
    "\n",
    "\n",
    "Takie bramki buduje się przy użyciu tranzystorów. Istnieją także bramki realizujące inne funkcje logiczne, przykładowo bramka __NOT__ ma tlyko jedno wejście i wykonuje funkcje logiczną __NOT__, czyli zaprzeczenia.\n",
    "\n",
    "|Wejście |Wyjście|\n",
    "|------|------|\n",
    "|1     |0     |\n",
    "|0     |1     |\n",
    "\n",
    "\n",
    "Istnieją również inne bramki logiczne, realizujące inne funkcje logiczne. \n",
    "\n",
    "__Jak wydawać rozkazy bardziej skomplikowane?__ Co, gdybyśmy chcieli wydać żołnierzom rozkaz \"Biegnijcie do magazynu i przynieście stamtąd 10 granatów\"? \n",
    "\n",
    "__Nie da się!__\n",
    "\n",
    "Jest jednak pewne wyjście. Żołnierzy i ich drużyn (bramek logicznych) w komputerze są miliony, a pewnie i więcej. Zatem możemy wydawać naszej armii nawet bardzo skomplikowane rozkazy, łącząc różnych żołnierzy i drużyny ze sobą.\n",
    "\n",
    "<div class=\"admonition see\">\n",
    "Łącząc bramkę <b>AND</b> oraz <b>NOT</b> otrzymamy bramkę not and, tzw bramkę <b>NAND</b>. Okazuje się, że używając TYLKO bramek NAND możemy stworzyć dowolny układ logiczny. \n",
    "</div> "
   ]
  },
  {
   "cell_type": "markdown",
   "metadata": {
    "deletable": false,
    "run_control": {
     "frozen": false
    }
   },
   "source": [
    "<a id='section31'></a>\n",
    "### Komu wydajemy rozkazy? O procesorze i pamięci\n",
    "W naszym komputerze są dwa rodzaje dywizji żołnierzy:\n",
    "\n",
    "- __procesor__\n",
    "- **pamięć** (_Dla ułatwienia będziemy mówić o pamięci wewnętrznej procesora i będziemy pomijać nieistotne tutaj szczegóły techniczne_)\n",
    "\n",
    "Jedni potrafią bardzo szybko potrafią podnosić i opuszczać flagi (procesor), drudzy są bardzo silni i mogą trzymać flagi uniesione bardzo długo (pamięć).\n",
    "\n",
    "Procesor lub dokładniej cetralna jednostka sterująca (z ang. Central Processing Unit - CPU) jest sercem komputera, tam też znajduje się większość bramek logicznych. Składając ze sobą w odpowiedni sposób różne bramki wykonuje różne operacje. Procesor wykonuje kolejne rozkazy po kolei, zaś ich wyniki zapisuje do pamięci, aby użyć ich w przyszłości. \n",
    "\n",
    "W komputerze jest wiele \"poziomów\" pamięci w zależności od tego jak często dana pamięc jest używana. Generalnie rzecz ujmując najszybsza, ale też najmniejsza jest pamięć podręczna procesora, w której zapisywane są dane potrzebne do wykonania aktualnie wykonywanej instrukcji. Dalej od procesora jest pamięć RAM, w której zapisane są wszystkie dane i programy, z których korzystamy w danym momencie na komputerze. Między innymi w trakcie włączania komputera kluczowe komponenty systemu operacyjnego są ładowane do pamięci RAM. Jest ona wolniejsza niż pamięc podrzęczna, ale jest za to bardziej pojemna. Dla przykładu dla Intel Core i7-11700 najbardziej wewnętrzna pamięć cache L1 ma tylko 512 KB, zaś dzisiaj standardowa pamięć RAM ma 16 czy nawet 32 GB, czyli około stu tysięcy razy więcej. Z drugiej strony pamięc cache L1 przekazuje informacje około 100 razy szybciej niż pamięć RAM. \n",
    "\n",
    "Jeszcze wolniejsza jest pamięć zapisywana na dysku twardym, zapewne spotkałeś się z oznaczeniami HDD (z ang. Hard Disk Drive) lub szybsze SSD (z ang. solid state drive), które potrafią przechować jeszcze więcej informacji, ale ładowanei ich jest jeszcze wolniejsze.\n",
    "\n",
    "<div class=\"admonition info\">\n",
    "Obecnie procesory oraz pamięć RAM działają tak szybko, że pomimo możliwości wykonywania tylko jednej operacji w ramach jednego rdzenia procesora stwarzają wrażenie ciągłości i wykonywania wielu operacji równocześnie!</div>\n",
    "Wykonywanie programu można sobie wyobrazać jako nieustającą komunikację między pamięcią, a processorem.\n",
    "\n",
    "__Zaraz, zaraz...__\n",
    "\n",
    "Ale jak się ma to do przed chwilą wywołanego programu, wyświetlającego na ekranie `Hello world!`? I gdzie są ci moi żołnierze? Gdzie ja zapisuję \"Hello World\" do pamięci i jak macham tymi flagami? O tym opowiemy w następnej kolejności."
   ]
  },
  {
   "cell_type": "markdown",
   "metadata": {},
   "source": [
    "<a id='section32'></a>\n",
    "### Interpreter języka Python. \n",
    "\n",
    "W dużej bitwie generał jest bardzo zajęty i potrzebuje wielu adiutantów (przybocznych), którzy lepiej dogadują się z żołnierzami i potrafią mówić ich językiem. Prości żołnierze nie rozumieją często takich słów jak _Blitzkrieg_, natomiast doskonale i szybko likwidują wroga. \n",
    "\n",
    "Twoim najlepszym adiutantem na tym kursie będzie **interpreter języka Python**, który będzie czytał Twoje rozkazy linijka po linijce i linijka po linijce będzie je tłumaczył żołnierzom.\n",
    "\n",
    "<div class=\"admonition info\">\n",
    "<b>To ciekawe!</b> Języki programowania podobnie jak zwykłe języki ewoluują i zmieniają się w czasie. Niektóre rozwiązania okazują się przestarzałe, a inne okazują się warte uwzglęnienia. Przykładowo kiedy to piszę, to obecną wersją Pythona jest wersja Python 3.11. Co nie oznacza, że na Twoim komputerze zainstalowany jest akurat Python 3.11. Możesz to sprawdzić poniższymi dwoma linijkami kodu:\n",
    "    \n",
    "```python\n",
    "    \n",
    "from platform import python_version\n",
    "\n",
    "print(python_version())\n",
    "```\n",
    "\n",
    "\n",
    "    \n",
    "</div>\n",
    "\n",
    "\n",
    "<div class=\"admonition see\">\n",
    "\n",
    "<b>Python 2 a Python 3:</b> Największą różnicą pomiędzy Pythonem w wersji 2 (do dzisiaj używanej w niektórych programach) a w wersji 3 jest polecenie print.\n",
    "W Pythonie 2 było ono pisane bez nawiasów:\n",
    "    \n",
    "```python\n",
    "print 2\n",
    "```\n",
    "Natomiast w Pythonie 3 jest pisane z nawiasami:\n",
    "    \n",
    "```python \n",
    "print(3) \n",
    "```\n",
    "    \n",
    "Warto o tym wiedzieć kiedy używa się interpretera Pythona 3 do \"odpalenia\" programu napisanego zgodnie z Pythonem 2.    \n",
    "</div>\n",
    "\n",
    "\n",
    "Przykładowo w naszym programie `print(\"Hello world!\")` mogłoby to wyglądać następująco:\n",
    "- **Adiutant**: Hej, wy tam, powiedzcie monitorowi, że ma coś wyświetlić na ekranie (`print`)!\n",
    "- **Żołnierze**: Ale co ma wyświetlić?\n",
    "- **Adiutant**: Dawać mi tu drużynę litery **`H`**, cholera, gdzie ona się podziała? Poszukam jej w pamięci. O, dobra, JEST!\n",
    "- **Żołnierze z drużyny \"H\"**: Meldujemy się na rozkaz! (wyświetlają literę \"H\").\n",
    "- **Adiutant**: No dobra, mamy \"H\", to teraz niech ja znajdę tych nicponi od \"**`e`**\", cholera, gdzie oni są?\n",
    "- **Żołnierze z drużyny \"H\"**: Meldujemy się na rozkaz! (wyświetlają literę \"e\").\n",
    "(i tak dalej litera po literze...)\n",
    "\n",
    "Kiedy to się skończy, komputer wyświetli na ekranie `>>> Hello world!` i będzie czekał na dalsze rozkazy.\n",
    "\n",
    "Kiedyś każdą z tych operacji trzeba było zaprogramować osobno. Instrukcje tego typu nazywa się **`rozkazami procesora`**. I dawniej programowanie polegało na podawaniu kolejnych rozkazów procesorowi. \n",
    "\n",
    "Natomiast dzisiaj możemy całą tę rozmowę między adiutantem a różnymi drużynami rozwiązać przez proste `print(\"Hello world!\")`, i skupić się na tym, co naprawdę ważne, a całą resztę wykona za nas adiutant (interpreter). Jedyna różnica jest taka, że jeśli on nas nie rozumie, to nie możemy wsadzić go do karceru (to znaczy możemy, ale raczej popsujemy komputer niż coś zyskamy), a musimy mu tłumaczyć tak długo aż nas zrozumie."
   ]
  },
  {
   "cell_type": "markdown",
   "metadata": {},
   "source": [
    "### Różne języki programowania\n",
    "\n",
    "Różne języki programowania mają różne sposoby na wydawanie poleceń. Przykładowo w C++ ten sam program wygląda inaczej: \n",
    "```c++\n",
    "std::cout<<\"Hello world\"<<std::endl\n",
    "``` \n",
    "\n",
    "lub  bardziej podobnie:\n",
    "```c++\n",
    "printf(\"Hello world\") \n",
    "```\n",
    "\n",
    "W Javie wygląda to jakoś dziwacznie:\n",
    "```java\n",
    "class HelloWorld {\n",
    "    public static void main(String[] args) {\n",
    "        System.out.println(\"Hello, World!\"); \n",
    "    }\n",
    "}\n",
    "```\n",
    "Zaś w assemblerze systemu DOS, gdzie jedna linijka kodu to jeden rozkaz procesora, wygląda to jeszcze gorzej:\n",
    "```\n",
    "org 100h\n",
    "mov dx,msg\n",
    "mov ah,9\n",
    "int 21h\n",
    "mov ah,4Ch\n",
    "int 21h\n",
    "msg db 'Hello, World!',0Dh,0Ah,'$'\n",
    "```\n",
    "Spokojnie, nie musisz nawet wiedzieć, co to oznacza (ja też nie wiem). Dlatego w dzisiejszych czasach używa się języków programowania, gdzie pojedyncze instrukcje są zrozumiałą dla nas, a nie dla procesora. Po to jest interpreter, by mu ją wytłumaczyć. To tłumaczenie zajmuje czas, jednak dzisiaj komputery są na tyle szybkie, że nie ma to aż takiego znaczenia. Istnieją języki, które pozwalają na pracę bliżej procesora (tzw. niskopoziomowe), na przykład na ręczne zarządzanie pamięcią. \n",
    "\n",
    "Języki te są z reguły szybsze, natomiast odbywa się to za cenę klarowności instrukcji dla człowieka. Trudniej też przenieść programy napisane w nich na inne systemy operacyjne. Takim sztandarowym językiem niskopoziomowym jest C i jego rozszerzenia takie jak C++. Z drugiej strony istnieją języki wysokopoziomowe, które mają zwykle bardziej klarowną składnię, natomiast dzieje się to kosztem wydajności.\n",
    "\n",
    "<div class=\"admonition warn\">\n",
    "<b>Python należy do języków wysokopoziomowych</b> i dlatego jest dobrym wyborem dla początkującyh. Należy mieć na uwadze, że wiele rzeczy dzieje się tam \"pod maską\" (na przykład typowanie oraz pamięć, o których więcej w kolejnych rozdziałach). Na co dzień nie musimy o nich pamiętać, jednak w przypadku niektórych zastosowań, na przykład w trenowaniu sieci neuronowych, warto mieć to na uwadze.\n",
    "</div>"
   ]
  },
  {
   "cell_type": "markdown",
   "metadata": {
    "deletable": false,
    "run_control": {
     "frozen": false
    }
   },
   "source": [
    "<a  id='section33'></a>\n",
    "### Języki kompilowane i interpretowane. Interpreter a kompilator\n",
    "\n",
    "Generałowie sztabowi na ogół nie lubią szumu bitwy. Wolą wydać rozkazy i potem czekać na ostateczny wynik. Tak można sobie wyobrażać **języki kompilowane**. W tych językach zanim program zostanie wykonany, musi zostać przetłumaczony na język maszynowy. Standardowo taki program przetłumaczony na język maszynowy (zer i jedynek) na komputerach z systemem operacyjnym Windows ma rozszerzenie `.exe` - zapewne już kiedyś je widziałeś/aś. \n",
    "\n",
    "Jak się zapewne domyślasz, takie tłumaczenie kodu zajmuje trochę czasu. Jednak potem ten program wynikowy jest bardzo szybki. Alternatywą jest tłumaczenie wszystkiego na bieżąco, tak jak tłumacze symultaniczni. Zajmie to trochę czasu, ale można mieć nadzieję, że nadąży się za mówiącym i program nie będzie zbyt wolny. Daje to więcej swobody i zapewnia przenośność oprogramowania [[1](#myfootnote1)]. Ponadto pozwala to na testowanie kodu dosłownie linijka po linijce - tak jak my robimy w naszych notatnikach. W ten sposób działają **języki interpretowane**.\n",
    "\n",
    "<div class=\"admonition info\">\n",
    "<b>To ciekawe!</b> Oprogramowanie jest bieżąco tłumaczone na język procesora, a każdy typ procesora, tzw. architetektura, na przykład x86 firmy Intel ma różny zestaw rozkazów, przez co kod musi być jednorazowo kompilowany dla każdego typu komputera. Dlatego nie ma dużo gier na Apple, zwłaszcza z procesorem ARM.</div>\n",
    "\n",
    "Python jest właśnie językiem interpretowanym. Pozwala na dosyć oszczędną i zrozumiałą składnię (tzw. \"pythoniastą składnię\") i na wykonywanie zadań programistycznych dosyć prostym kodem (jak się dalej przekonamy). Standardowym rozszerzeniem programów w Pythonie jest __.py__, a notatników Jupyter - __.ipynb__.\n",
    "\n",
    "<div class=\"admonition info\">\n",
    "<b>To ciekawe!</b> Język Python może być również kompilowany do C, mówimy wtedy o CPythonie czy do kodu na maszynę wirtualną Javy, wtedy mówimy o JPythonie.</div>\n",
    "\n",
    "Dzięki tej klarowności składni i prostocie kodu, Python jest dość prosty do nauczenia się. Jest jednym dwóch najpopularniejszych języków w data science (obok R), gdzie ważniejsza jest prostota kodu niż szybkość, gdyż nasze oprogramowanie zazwyczaj nie musi działać w czasie rzeczywistym."
   ]
  },
  {
   "cell_type": "markdown",
   "metadata": {
    "deletable": false,
    "run_control": {
     "frozen": false
    }
   },
   "source": [
    "<a  id='section4'></a>\n",
    "## Podsumowanie\n",
    "\n",
    "Podsumujmy, czego się dotychczas dowiedzieliście:\n",
    "1. Języki programowania pozwalają na komunikowanie się z komputerem i wykonywanie rozkazów procesora oraz zapisywanie w pamięci.\n",
    "2. Istnieją różne języki programowania, które w różny sposób komunikują się z komputerem.\n",
    "3. Python jest językiem interpretowanym, co oznacza, że tłumaczy instrukcje na język procesora 'w trakcie trwania programu'."
   ]
  }
 ],
 "metadata": {
  "kernelspec": {
   "display_name": "Python 3 (ipykernel)",
   "language": "python",
   "name": "python3"
  },
  "language_info": {
   "codemirror_mode": {
    "name": "ipython",
    "version": 3
   },
   "file_extension": ".py",
   "mimetype": "text/x-python",
   "name": "python",
   "nbconvert_exporter": "python",
   "pygments_lexer": "ipython3",
   "version": "3.9.13"
  },
  "nbTranslate": {
   "displayLangs": [
    "pl"
   ],
   "hotkey": "alt-t",
   "langInMainMenu": true,
   "sourceLang": "en",
   "targetLang": "pl",
   "useGoogleTranslate": true
  },
  "toc": {
   "base_numbering": 1,
   "nav_menu": {},
   "number_sections": true,
   "sideBar": true,
   "skip_h1_title": true,
   "title_cell": "Spis Treści",
   "title_sidebar": "Spis Treści",
   "toc_cell": true,
   "toc_position": {
    "height": "670.6624755859375px",
    "left": "78px",
    "top": "196.66250610351562px",
    "width": "175.77499389648438px"
   },
   "toc_section_display": true,
   "toc_window_display": false
  },
  "varInspector": {
   "cols": {
    "lenName": 16,
    "lenType": 16,
    "lenVar": 40
   },
   "kernels_config": {
    "python": {
     "delete_cmd_postfix": "",
     "delete_cmd_prefix": "del ",
     "library": "var_list.py",
     "varRefreshCmd": "print(var_dic_list())"
    },
    "r": {
     "delete_cmd_postfix": ") ",
     "delete_cmd_prefix": "rm(",
     "library": "var_list.r",
     "varRefreshCmd": "cat(var_dic_list()) "
    }
   },
   "types_to_exclude": [
    "module",
    "function",
    "builtin_function_or_method",
    "instance",
    "_Feature"
   ],
   "window_display": false
  },
  "vscode": {
   "interpreter": {
    "hash": "c7bfc4e1e6e4eb0260677cf9624913304c0d10808e8027cbffb76cc52c0a9d58"
   }
  }
 },
 "nbformat": 4,
 "nbformat_minor": 4
}
